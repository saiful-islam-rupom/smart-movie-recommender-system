{
 "cells": [
  {
   "cell_type": "code",
   "execution_count": 2,
   "id": "c5b0ecf6",
   "metadata": {},
   "outputs": [],
   "source": [
    "import numpy as np\n",
    "import pandas as pd"
   ]
  },
  {
   "cell_type": "markdown",
   "id": "9e50a4bf",
   "metadata": {},
   "source": [
    "# Data Cleaning & Feature Engineering"
   ]
  },
  {
   "cell_type": "code",
   "execution_count": 63,
   "id": "439d7603",
   "metadata": {},
   "outputs": [],
   "source": [
    "df_tags = pd.read_csv(r\"E:\\data-science-journey\\movie-recommender-system\\data\\raw-data\\tags.csv\")"
   ]
  },
  {
   "cell_type": "code",
   "execution_count": 64,
   "id": "3d773418",
   "metadata": {},
   "outputs": [
    {
     "data": {
      "text/html": [
       "<div>\n",
       "<style scoped>\n",
       "    .dataframe tbody tr th:only-of-type {\n",
       "        vertical-align: middle;\n",
       "    }\n",
       "\n",
       "    .dataframe tbody tr th {\n",
       "        vertical-align: top;\n",
       "    }\n",
       "\n",
       "    .dataframe thead th {\n",
       "        text-align: right;\n",
       "    }\n",
       "</style>\n",
       "<table border=\"1\" class=\"dataframe\">\n",
       "  <thead>\n",
       "    <tr style=\"text-align: right;\">\n",
       "      <th></th>\n",
       "      <th>userId</th>\n",
       "      <th>movieId</th>\n",
       "      <th>tag</th>\n",
       "      <th>timestamp</th>\n",
       "    </tr>\n",
       "  </thead>\n",
       "  <tbody>\n",
       "    <tr>\n",
       "      <th>0</th>\n",
       "      <td>22</td>\n",
       "      <td>26479</td>\n",
       "      <td>Kevin Kline</td>\n",
       "      <td>1583038886</td>\n",
       "    </tr>\n",
       "    <tr>\n",
       "      <th>1</th>\n",
       "      <td>22</td>\n",
       "      <td>79592</td>\n",
       "      <td>misogyny</td>\n",
       "      <td>1581476297</td>\n",
       "    </tr>\n",
       "    <tr>\n",
       "      <th>2</th>\n",
       "      <td>22</td>\n",
       "      <td>247150</td>\n",
       "      <td>acrophobia</td>\n",
       "      <td>1622483469</td>\n",
       "    </tr>\n",
       "    <tr>\n",
       "      <th>3</th>\n",
       "      <td>34</td>\n",
       "      <td>2174</td>\n",
       "      <td>music</td>\n",
       "      <td>1249808064</td>\n",
       "    </tr>\n",
       "    <tr>\n",
       "      <th>4</th>\n",
       "      <td>34</td>\n",
       "      <td>2174</td>\n",
       "      <td>weird</td>\n",
       "      <td>1249808102</td>\n",
       "    </tr>\n",
       "  </tbody>\n",
       "</table>\n",
       "</div>"
      ],
      "text/plain": [
       "   userId  movieId          tag   timestamp\n",
       "0      22    26479  Kevin Kline  1583038886\n",
       "1      22    79592     misogyny  1581476297\n",
       "2      22   247150   acrophobia  1622483469\n",
       "3      34     2174        music  1249808064\n",
       "4      34     2174        weird  1249808102"
      ]
     },
     "execution_count": 64,
     "metadata": {},
     "output_type": "execute_result"
    }
   ],
   "source": [
    "df_tags.head()"
   ]
  },
  {
   "cell_type": "code",
   "execution_count": 65,
   "id": "387127c7",
   "metadata": {},
   "outputs": [],
   "source": [
    "\n",
    "import re\n",
    "df_tags['tag'] = df_tags['tag'].astype(str)  # Ensure all values are strings\n",
    "df_tags['tag'] = df_tags['tag'].apply(lambda x: re.sub(r'[^a-zA-Z0-9]', '', x))\n"
   ]
  },
  {
   "cell_type": "code",
   "execution_count": 66,
   "id": "f529e46b",
   "metadata": {},
   "outputs": [
    {
     "data": {
      "text/html": [
       "<div>\n",
       "<style scoped>\n",
       "    .dataframe tbody tr th:only-of-type {\n",
       "        vertical-align: middle;\n",
       "    }\n",
       "\n",
       "    .dataframe tbody tr th {\n",
       "        vertical-align: top;\n",
       "    }\n",
       "\n",
       "    .dataframe thead th {\n",
       "        text-align: right;\n",
       "    }\n",
       "</style>\n",
       "<table border=\"1\" class=\"dataframe\">\n",
       "  <thead>\n",
       "    <tr style=\"text-align: right;\">\n",
       "      <th></th>\n",
       "      <th>userId</th>\n",
       "      <th>movieId</th>\n",
       "      <th>tag</th>\n",
       "      <th>timestamp</th>\n",
       "    </tr>\n",
       "  </thead>\n",
       "  <tbody>\n",
       "    <tr>\n",
       "      <th>1351493</th>\n",
       "      <td>81940</td>\n",
       "      <td>2959</td>\n",
       "      <td>satirical</td>\n",
       "      <td>1448702895</td>\n",
       "    </tr>\n",
       "    <tr>\n",
       "      <th>1803626</th>\n",
       "      <td>143964</td>\n",
       "      <td>2324</td>\n",
       "      <td>OscarWinner</td>\n",
       "      <td>1373983414</td>\n",
       "    </tr>\n",
       "    <tr>\n",
       "      <th>615231</th>\n",
       "      <td>78213</td>\n",
       "      <td>410</td>\n",
       "      <td>siblingrelationship</td>\n",
       "      <td>1528513425</td>\n",
       "    </tr>\n",
       "    <tr>\n",
       "      <th>206354</th>\n",
       "      <td>28882</td>\n",
       "      <td>541</td>\n",
       "      <td>assassin</td>\n",
       "      <td>1246534048</td>\n",
       "    </tr>\n",
       "    <tr>\n",
       "      <th>414543</th>\n",
       "      <td>56780</td>\n",
       "      <td>162414</td>\n",
       "      <td>gay</td>\n",
       "      <td>1500826877</td>\n",
       "    </tr>\n",
       "    <tr>\n",
       "      <th>1238763</th>\n",
       "      <td>78213</td>\n",
       "      <td>183843</td>\n",
       "      <td>bluelight</td>\n",
       "      <td>1614741384</td>\n",
       "    </tr>\n",
       "    <tr>\n",
       "      <th>696404</th>\n",
       "      <td>78213</td>\n",
       "      <td>2478</td>\n",
       "      <td>unitedstatesmexicobarrier</td>\n",
       "      <td>1528513113</td>\n",
       "    </tr>\n",
       "    <tr>\n",
       "      <th>1236027</th>\n",
       "      <td>78213</td>\n",
       "      <td>182091</td>\n",
       "      <td>infantry</td>\n",
       "      <td>1526621386</td>\n",
       "    </tr>\n",
       "    <tr>\n",
       "      <th>80323</th>\n",
       "      <td>11089</td>\n",
       "      <td>1959</td>\n",
       "      <td>historical</td>\n",
       "      <td>1678389410</td>\n",
       "    </tr>\n",
       "    <tr>\n",
       "      <th>242206</th>\n",
       "      <td>32486</td>\n",
       "      <td>109487</td>\n",
       "      <td>thoughtprovoking</td>\n",
       "      <td>1585410443</td>\n",
       "    </tr>\n",
       "  </tbody>\n",
       "</table>\n",
       "</div>"
      ],
      "text/plain": [
       "         userId  movieId                        tag   timestamp\n",
       "1351493   81940     2959                  satirical  1448702895\n",
       "1803626  143964     2324                OscarWinner  1373983414\n",
       "615231    78213      410        siblingrelationship  1528513425\n",
       "206354    28882      541                   assassin  1246534048\n",
       "414543    56780   162414                        gay  1500826877\n",
       "1238763   78213   183843                  bluelight  1614741384\n",
       "696404    78213     2478  unitedstatesmexicobarrier  1528513113\n",
       "1236027   78213   182091                   infantry  1526621386\n",
       "80323     11089     1959                 historical  1678389410\n",
       "242206    32486   109487           thoughtprovoking  1585410443"
      ]
     },
     "execution_count": 66,
     "metadata": {},
     "output_type": "execute_result"
    }
   ],
   "source": [
    "df_tags.sample(10)"
   ]
  },
  {
   "cell_type": "code",
   "execution_count": 67,
   "id": "9081d8a5",
   "metadata": {},
   "outputs": [],
   "source": [
    "\n",
    "\n",
    "df_grouped = df_tags.groupby('movieId')['tag'].apply(lambda x: '|'.join(x.astype(str))).reset_index()\n",
    "df_grouped.columns = ['movieId', 'combined_tags']\n"
   ]
  },
  {
   "cell_type": "code",
   "execution_count": 68,
   "id": "c151fd9f",
   "metadata": {},
   "outputs": [
    {
     "data": {
      "text/html": [
       "<div>\n",
       "<style scoped>\n",
       "    .dataframe tbody tr th:only-of-type {\n",
       "        vertical-align: middle;\n",
       "    }\n",
       "\n",
       "    .dataframe tbody tr th {\n",
       "        vertical-align: top;\n",
       "    }\n",
       "\n",
       "    .dataframe thead th {\n",
       "        text-align: right;\n",
       "    }\n",
       "</style>\n",
       "<table border=\"1\" class=\"dataframe\">\n",
       "  <thead>\n",
       "    <tr style=\"text-align: right;\">\n",
       "      <th></th>\n",
       "      <th>movieId</th>\n",
       "      <th>combined_tags</th>\n",
       "    </tr>\n",
       "  </thead>\n",
       "  <tbody>\n",
       "    <tr>\n",
       "      <th>18880</th>\n",
       "      <td>106098</td>\n",
       "      <td>history|Islam|religion|science|youtube</td>\n",
       "    </tr>\n",
       "    <tr>\n",
       "      <th>9035</th>\n",
       "      <td>31101</td>\n",
       "      <td>Underrated|Africa|anomie|colonialism|Africa|co...</td>\n",
       "    </tr>\n",
       "    <tr>\n",
       "      <th>11171</th>\n",
       "      <td>54326</td>\n",
       "      <td>Colombia|LatinAmerica|SouthAmerica</td>\n",
       "    </tr>\n",
       "    <tr>\n",
       "      <th>8512</th>\n",
       "      <td>26675</td>\n",
       "      <td>baseball|carcrash|drinking|gangster|gore|gun|i...</td>\n",
       "    </tr>\n",
       "    <tr>\n",
       "      <th>16396</th>\n",
       "      <td>91906</td>\n",
       "      <td>bloggers|romaniannewwave</td>\n",
       "    </tr>\n",
       "    <tr>\n",
       "      <th>35093</th>\n",
       "      <td>163613</td>\n",
       "      <td>breastfeeding</td>\n",
       "    </tr>\n",
       "    <tr>\n",
       "      <th>9311</th>\n",
       "      <td>32627</td>\n",
       "      <td>SylvesterStallone|countrymusic|musicians|music...</td>\n",
       "    </tr>\n",
       "    <tr>\n",
       "      <th>26138</th>\n",
       "      <td>134113</td>\n",
       "      <td>campy|cheeseball</td>\n",
       "    </tr>\n",
       "    <tr>\n",
       "      <th>17091</th>\n",
       "      <td>96415</td>\n",
       "      <td>apocalypse|doomsday|Anthology|apocalypse|dooms...</td>\n",
       "    </tr>\n",
       "    <tr>\n",
       "      <th>45057</th>\n",
       "      <td>200256</td>\n",
       "      <td>TimBurton|toolong|1910s|adventure|badcgi|circu...</td>\n",
       "    </tr>\n",
       "  </tbody>\n",
       "</table>\n",
       "</div>"
      ],
      "text/plain": [
       "       movieId                                      combined_tags\n",
       "18880   106098             history|Islam|religion|science|youtube\n",
       "9035     31101  Underrated|Africa|anomie|colonialism|Africa|co...\n",
       "11171    54326                 Colombia|LatinAmerica|SouthAmerica\n",
       "8512     26675  baseball|carcrash|drinking|gangster|gore|gun|i...\n",
       "16396    91906                           bloggers|romaniannewwave\n",
       "35093   163613                                      breastfeeding\n",
       "9311     32627  SylvesterStallone|countrymusic|musicians|music...\n",
       "26138   134113                                   campy|cheeseball\n",
       "17091    96415  apocalypse|doomsday|Anthology|apocalypse|dooms...\n",
       "45057   200256  TimBurton|toolong|1910s|adventure|badcgi|circu..."
      ]
     },
     "execution_count": 68,
     "metadata": {},
     "output_type": "execute_result"
    }
   ],
   "source": [
    "df_grouped.sample(10)"
   ]
  },
  {
   "cell_type": "code",
   "execution_count": 69,
   "id": "1e8a7f72",
   "metadata": {},
   "outputs": [],
   "source": [
    "df_movies = pd.read_csv(r\"E:\\data-science-journey\\movie-recommender-system\\data\\raw-data\\movies.csv\")"
   ]
  },
  {
   "cell_type": "code",
   "execution_count": 70,
   "id": "8c286405",
   "metadata": {},
   "outputs": [],
   "source": [
    "df_movies['genres'] = df_movies['genres'].astype(str)\n",
    "df_movies['genres'] = df_movies['genres'].apply(lambda x: re.sub(r'[^a-zA-Z0-9|]', '', x))"
   ]
  },
  {
   "cell_type": "code",
   "execution_count": 72,
   "id": "afc802e2",
   "metadata": {},
   "outputs": [
    {
     "data": {
      "text/html": [
       "<div>\n",
       "<style scoped>\n",
       "    .dataframe tbody tr th:only-of-type {\n",
       "        vertical-align: middle;\n",
       "    }\n",
       "\n",
       "    .dataframe tbody tr th {\n",
       "        vertical-align: top;\n",
       "    }\n",
       "\n",
       "    .dataframe thead th {\n",
       "        text-align: right;\n",
       "    }\n",
       "</style>\n",
       "<table border=\"1\" class=\"dataframe\">\n",
       "  <thead>\n",
       "    <tr style=\"text-align: right;\">\n",
       "      <th></th>\n",
       "      <th>movieId</th>\n",
       "      <th>title</th>\n",
       "      <th>genres</th>\n",
       "    </tr>\n",
       "  </thead>\n",
       "  <tbody>\n",
       "    <tr>\n",
       "      <th>86279</th>\n",
       "      <td>288133</td>\n",
       "      <td>The Professional Bridesmaid (2023)</td>\n",
       "      <td>Comedy|Romance</td>\n",
       "    </tr>\n",
       "    <tr>\n",
       "      <th>11441</th>\n",
       "      <td>51575</td>\n",
       "      <td>Wild Hogs (2007)</td>\n",
       "      <td>Adventure|Comedy</td>\n",
       "    </tr>\n",
       "    <tr>\n",
       "      <th>60841</th>\n",
       "      <td>201875</td>\n",
       "      <td>Running Red (2000)</td>\n",
       "      <td>Action|Adventure|Thriller</td>\n",
       "    </tr>\n",
       "    <tr>\n",
       "      <th>65039</th>\n",
       "      <td>211726</td>\n",
       "      <td>Escape from Pretoria (2020)</td>\n",
       "      <td>Thriller</td>\n",
       "    </tr>\n",
       "    <tr>\n",
       "      <th>33377</th>\n",
       "      <td>142472</td>\n",
       "      <td>Kebab Connection (2004)</td>\n",
       "      <td>Action|Comedy|Romance</td>\n",
       "    </tr>\n",
       "    <tr>\n",
       "      <th>5293</th>\n",
       "      <td>5400</td>\n",
       "      <td>Sum of All Fears, The (2002)</td>\n",
       "      <td>Drama|Thriller</td>\n",
       "    </tr>\n",
       "    <tr>\n",
       "      <th>40685</th>\n",
       "      <td>159115</td>\n",
       "      <td>Chongqing Hot Pot (2016)</td>\n",
       "      <td>Drama</td>\n",
       "    </tr>\n",
       "    <tr>\n",
       "      <th>24244</th>\n",
       "      <td>120928</td>\n",
       "      <td>Lullaby (2014)</td>\n",
       "      <td>Drama</td>\n",
       "    </tr>\n",
       "    <tr>\n",
       "      <th>36701</th>\n",
       "      <td>150080</td>\n",
       "      <td>Bingo (2013)</td>\n",
       "      <td>Comedy</td>\n",
       "    </tr>\n",
       "    <tr>\n",
       "      <th>65929</th>\n",
       "      <td>213804</td>\n",
       "      <td>The Boogeyman (1982)</td>\n",
       "      <td>Drama|Horror</td>\n",
       "    </tr>\n",
       "  </tbody>\n",
       "</table>\n",
       "</div>"
      ],
      "text/plain": [
       "       movieId                               title                     genres\n",
       "86279   288133  The Professional Bridesmaid (2023)             Comedy|Romance\n",
       "11441    51575                    Wild Hogs (2007)           Adventure|Comedy\n",
       "60841   201875                  Running Red (2000)  Action|Adventure|Thriller\n",
       "65039   211726         Escape from Pretoria (2020)                   Thriller\n",
       "33377   142472             Kebab Connection (2004)      Action|Comedy|Romance\n",
       "5293      5400        Sum of All Fears, The (2002)             Drama|Thriller\n",
       "40685   159115            Chongqing Hot Pot (2016)                      Drama\n",
       "24244   120928                      Lullaby (2014)                      Drama\n",
       "36701   150080                        Bingo (2013)                     Comedy\n",
       "65929   213804                The Boogeyman (1982)               Drama|Horror"
      ]
     },
     "execution_count": 72,
     "metadata": {},
     "output_type": "execute_result"
    }
   ],
   "source": [
    "df_movies.sample(10)"
   ]
  },
  {
   "cell_type": "code",
   "execution_count": 73,
   "id": "5be2642f",
   "metadata": {},
   "outputs": [],
   "source": [
    "\n",
    "\n",
    "merged_df = pd.merge(df_movies, df_grouped, on='movieId', how='inner')\n",
    "\n",
    "merged_df['final_tags'] = merged_df['genres'].astype(str) + '|' + merged_df['combined_tags'].astype(str)\n",
    "\n",
    "merged_df = merged_df[['movieId', 'title', 'final_tags']]\n"
   ]
  },
  {
   "cell_type": "code",
   "execution_count": 74,
   "id": "52a9a5da",
   "metadata": {},
   "outputs": [
    {
     "data": {
      "text/html": [
       "<div>\n",
       "<style scoped>\n",
       "    .dataframe tbody tr th:only-of-type {\n",
       "        vertical-align: middle;\n",
       "    }\n",
       "\n",
       "    .dataframe tbody tr th {\n",
       "        vertical-align: top;\n",
       "    }\n",
       "\n",
       "    .dataframe thead th {\n",
       "        text-align: right;\n",
       "    }\n",
       "</style>\n",
       "<table border=\"1\" class=\"dataframe\">\n",
       "  <thead>\n",
       "    <tr style=\"text-align: right;\">\n",
       "      <th></th>\n",
       "      <th>movieId</th>\n",
       "      <th>title</th>\n",
       "      <th>final_tags</th>\n",
       "    </tr>\n",
       "  </thead>\n",
       "  <tbody>\n",
       "    <tr>\n",
       "      <th>10921</th>\n",
       "      <td>51931</td>\n",
       "      <td>Reign Over Me (2007)</td>\n",
       "      <td>Drama|acting|adamsandler|DonCheadle|sad|comedy...</td>\n",
       "    </tr>\n",
       "    <tr>\n",
       "      <th>32245</th>\n",
       "      <td>154790</td>\n",
       "      <td>The Teasers (1975)</td>\n",
       "      <td>Comedy|eroticmovie|exhibitionism|exhibitionist...</td>\n",
       "    </tr>\n",
       "    <tr>\n",
       "      <th>9369</th>\n",
       "      <td>32941</td>\n",
       "      <td>Self-Made Hero, A (Un héros très discret) (1996)</td>\n",
       "      <td>Comedy|Drama|France|FrenchFilm|WorldWarII|anti...</td>\n",
       "    </tr>\n",
       "    <tr>\n",
       "      <th>37899</th>\n",
       "      <td>171759</td>\n",
       "      <td>The Beguiled (2017)</td>\n",
       "      <td>Drama|Thriller|Western|americancivilwar|CivilW...</td>\n",
       "    </tr>\n",
       "    <tr>\n",
       "      <th>7048</th>\n",
       "      <td>7727</td>\n",
       "      <td>Protocol (1984)</td>\n",
       "      <td>Comedy|politics|BDR|Betamax|GoldieHawn</td>\n",
       "    </tr>\n",
       "    <tr>\n",
       "      <th>8014</th>\n",
       "      <td>25884</td>\n",
       "      <td>My Favorite Blonde (1942)</td>\n",
       "      <td>Comedy|Romance|Thriller|BobHope|MadelineCarrol...</td>\n",
       "    </tr>\n",
       "    <tr>\n",
       "      <th>15998</th>\n",
       "      <td>89898</td>\n",
       "      <td>Generation P (2011)</td>\n",
       "      <td>Comedy|Drama|SciFi|conspiracy|drugs|Russia|adv...</td>\n",
       "    </tr>\n",
       "    <tr>\n",
       "      <th>3983</th>\n",
       "      <td>4323</td>\n",
       "      <td>Horse Soldiers, The (1959)</td>\n",
       "      <td>Adventure|War|Western|cavalry|confederate|stan...</td>\n",
       "    </tr>\n",
       "    <tr>\n",
       "      <th>33514</th>\n",
       "      <td>158914</td>\n",
       "      <td>Perfect on Paper (2014)</td>\n",
       "      <td>Comedy|Romance|losangeles|publisher</td>\n",
       "    </tr>\n",
       "    <tr>\n",
       "      <th>22237</th>\n",
       "      <td>121797</td>\n",
       "      <td>The Old Maid (1939)</td>\n",
       "      <td>Drama|tivo20|BetteDavis|DonaldCrisp|friendship...</td>\n",
       "    </tr>\n",
       "  </tbody>\n",
       "</table>\n",
       "</div>"
      ],
      "text/plain": [
       "       movieId                                             title  \\\n",
       "10921    51931                              Reign Over Me (2007)   \n",
       "32245   154790                                The Teasers (1975)   \n",
       "9369     32941  Self-Made Hero, A (Un héros très discret) (1996)   \n",
       "37899   171759                               The Beguiled (2017)   \n",
       "7048      7727                                   Protocol (1984)   \n",
       "8014     25884                         My Favorite Blonde (1942)   \n",
       "15998    89898                               Generation P (2011)   \n",
       "3983      4323                        Horse Soldiers, The (1959)   \n",
       "33514   158914                           Perfect on Paper (2014)   \n",
       "22237   121797                               The Old Maid (1939)   \n",
       "\n",
       "                                              final_tags  \n",
       "10921  Drama|acting|adamsandler|DonCheadle|sad|comedy...  \n",
       "32245  Comedy|eroticmovie|exhibitionism|exhibitionist...  \n",
       "9369   Comedy|Drama|France|FrenchFilm|WorldWarII|anti...  \n",
       "37899  Drama|Thriller|Western|americancivilwar|CivilW...  \n",
       "7048              Comedy|politics|BDR|Betamax|GoldieHawn  \n",
       "8014   Comedy|Romance|Thriller|BobHope|MadelineCarrol...  \n",
       "15998  Comedy|Drama|SciFi|conspiracy|drugs|Russia|adv...  \n",
       "3983   Adventure|War|Western|cavalry|confederate|stan...  \n",
       "33514                Comedy|Romance|losangeles|publisher  \n",
       "22237  Drama|tivo20|BetteDavis|DonaldCrisp|friendship...  "
      ]
     },
     "execution_count": 74,
     "metadata": {},
     "output_type": "execute_result"
    }
   ],
   "source": [
    "merged_df.sample(10)"
   ]
  },
  {
   "cell_type": "code",
   "execution_count": 75,
   "id": "40d6e04b",
   "metadata": {},
   "outputs": [
    {
     "name": "stdout",
     "output_type": "stream",
     "text": [
      "<class 'pandas.core.frame.DataFrame'>\n",
      "RangeIndex: 51323 entries, 0 to 51322\n",
      "Data columns (total 3 columns):\n",
      " #   Column      Non-Null Count  Dtype \n",
      "---  ------      --------------  ----- \n",
      " 0   movieId     51323 non-null  int64 \n",
      " 1   title       51323 non-null  object\n",
      " 2   final_tags  51323 non-null  object\n",
      "dtypes: int64(1), object(2)\n",
      "memory usage: 1.2+ MB\n"
     ]
    }
   ],
   "source": [
    "merged_df.info()"
   ]
  },
  {
   "cell_type": "code",
   "execution_count": 76,
   "id": "af89acc5",
   "metadata": {},
   "outputs": [],
   "source": [
    "merged_df['final_tags'] = merged_df['final_tags'].astype(str).str.replace('|', ' ', regex=False)"
   ]
  },
  {
   "cell_type": "code",
   "execution_count": 77,
   "id": "16d5224f",
   "metadata": {},
   "outputs": [],
   "source": [
    "merged_df['final_tags'] = merged_df['final_tags'].str.lower()"
   ]
  },
  {
   "cell_type": "code",
   "execution_count": 78,
   "id": "a3a197be",
   "metadata": {},
   "outputs": [
    {
     "data": {
      "text/html": [
       "<div>\n",
       "<style scoped>\n",
       "    .dataframe tbody tr th:only-of-type {\n",
       "        vertical-align: middle;\n",
       "    }\n",
       "\n",
       "    .dataframe tbody tr th {\n",
       "        vertical-align: top;\n",
       "    }\n",
       "\n",
       "    .dataframe thead th {\n",
       "        text-align: right;\n",
       "    }\n",
       "</style>\n",
       "<table border=\"1\" class=\"dataframe\">\n",
       "  <thead>\n",
       "    <tr style=\"text-align: right;\">\n",
       "      <th></th>\n",
       "      <th>movieId</th>\n",
       "      <th>title</th>\n",
       "      <th>final_tags</th>\n",
       "    </tr>\n",
       "  </thead>\n",
       "  <tbody>\n",
       "    <tr>\n",
       "      <th>31601</th>\n",
       "      <td>152467</td>\n",
       "      <td>Venomous (2002)</td>\n",
       "      <td>horror scifi desert mutation smalltown snake v...</td>\n",
       "    </tr>\n",
       "    <tr>\n",
       "      <th>27085</th>\n",
       "      <td>137224</td>\n",
       "      <td>China Gate (1957)</td>\n",
       "      <td>action thriller war vietnamwar</td>\n",
       "    </tr>\n",
       "    <tr>\n",
       "      <th>10873</th>\n",
       "      <td>51457</td>\n",
       "      <td>Iraq in Fragments (2006)</td>\n",
       "      <td>documentary war iraq iraqwar islam middleeast ...</td>\n",
       "    </tr>\n",
       "    <tr>\n",
       "      <th>47786</th>\n",
       "      <td>226758</td>\n",
       "      <td>The Witches (2020)</td>\n",
       "      <td>adventure children comedy fantasy horror anneh...</td>\n",
       "    </tr>\n",
       "    <tr>\n",
       "      <th>30700</th>\n",
       "      <td>149360</td>\n",
       "      <td>Pleasure Factory (2007)</td>\n",
       "      <td>action adventure drama romance independentfilm...</td>\n",
       "    </tr>\n",
       "    <tr>\n",
       "      <th>39199</th>\n",
       "      <td>175989</td>\n",
       "      <td>Nude on the Moon (1961)</td>\n",
       "      <td>comedy fantasy scifi exploitation independentf...</td>\n",
       "    </tr>\n",
       "    <tr>\n",
       "      <th>50799</th>\n",
       "      <td>281002</td>\n",
       "      <td>Devotion (2022)</td>\n",
       "      <td>drama war americanabroad blackandwhite heroism...</td>\n",
       "    </tr>\n",
       "    <tr>\n",
       "      <th>50251</th>\n",
       "      <td>272483</td>\n",
       "      <td>The Bubble (2022)</td>\n",
       "      <td>comedy cancelculture covid19 dinosaur dinosaur...</td>\n",
       "    </tr>\n",
       "    <tr>\n",
       "      <th>17486</th>\n",
       "      <td>98346</td>\n",
       "      <td>Excuse My Dust (1951)</td>\n",
       "      <td>comedy musical inventor musical bdr</td>\n",
       "    </tr>\n",
       "    <tr>\n",
       "      <th>40601</th>\n",
       "      <td>180415</td>\n",
       "      <td>Amok (2017)</td>\n",
       "      <td>crime thriller detective murder</td>\n",
       "    </tr>\n",
       "  </tbody>\n",
       "</table>\n",
       "</div>"
      ],
      "text/plain": [
       "       movieId                     title  \\\n",
       "31601   152467           Venomous (2002)   \n",
       "27085   137224         China Gate (1957)   \n",
       "10873    51457  Iraq in Fragments (2006)   \n",
       "47786   226758        The Witches (2020)   \n",
       "30700   149360   Pleasure Factory (2007)   \n",
       "39199   175989   Nude on the Moon (1961)   \n",
       "50799   281002           Devotion (2022)   \n",
       "50251   272483         The Bubble (2022)   \n",
       "17486    98346     Excuse My Dust (1951)   \n",
       "40601   180415               Amok (2017)   \n",
       "\n",
       "                                              final_tags  \n",
       "31601  horror scifi desert mutation smalltown snake v...  \n",
       "27085                     action thriller war vietnamwar  \n",
       "10873  documentary war iraq iraqwar islam middleeast ...  \n",
       "47786  adventure children comedy fantasy horror anneh...  \n",
       "30700  action adventure drama romance independentfilm...  \n",
       "39199  comedy fantasy scifi exploitation independentf...  \n",
       "50799  drama war americanabroad blackandwhite heroism...  \n",
       "50251  comedy cancelculture covid19 dinosaur dinosaur...  \n",
       "17486                comedy musical inventor musical bdr  \n",
       "40601                    crime thriller detective murder  "
      ]
     },
     "execution_count": 78,
     "metadata": {},
     "output_type": "execute_result"
    }
   ],
   "source": [
    "merged_df.sample(10)"
   ]
  },
  {
   "cell_type": "code",
   "execution_count": 80,
   "id": "423ebf19",
   "metadata": {},
   "outputs": [
    {
     "data": {
      "text/plain": [
       "'adventure children fantasy robinwilliams fantasy robinwilliams timetravel animals childhoodrecaptured herdsofcgianimals kirstendunst robinwilliams boardgame comedy endlessscreaming kidflick animals badcgi boardgame fantasy kidflick robinwilliams scary timetravel fiction timetravel newengland fantasy joejohnston robinwilliams robinwilliams timetravel jungle badcgi boring kirstendunst robinwilliams animals badcgi boardgame fantasy robinwilliams timetravel game boardgame family fantasy fiction robinwilliams scary timetravel robinwilliams timetravel lebbat robinwilliams robinwilliams timetravel robinwilliams timetravel adventure classic fantasy kidflick robinwilliams adventure fantasy fantasy badcgi kidflick robinwilliams fantasy animals boardgame children fantasy kirstendunst robinwilliams timetravel dynamiccgiaction animals badcgi basedonabook boardgame chrisvanallsburg animals basedonabook fantasy magicboardgame monkey notforkids robinwilliams scary timetravel adventure boardgame comedy family fantasy fiction robinwilliams scary timetravel adventure animals boardgame fantasy robinwilliams timetravel fantasy magicboardgame robinwilliams badcgi kidflick robinwilliams adaptedfrombook childish children kidflick timetravel robinwilliams 1860s 1960s 1990s 19thcentury 20thcentury abandonedfactory actorplayingmultipleroles adventurer alteringhistory alternatetimeline animalattack animaldrivingacar animaldrivingavehicle animalkilling animatronic apology arachnid arrest attic auntnephewrelationship auntniecerelationship axe basedonchildrensbook basedonnovel basedonyoungadultnovel bat beach beardedman beatup bicycle bicyclechase biggamehunter blackeye blockbuster blondechild blondewoman bloodylip blunder blunderbuss board boardgame boardingschool boy breakingthefourthwall bridge brochure brothersisterrelationship brownhairedboy bug bullettime bully bum businessman canoe car caraccident carcrash carcrashesintoastore cartheft carthroughwall carnivore carnivorousplant cemetery cgi cgianimal cgieffect chaos chest child childinjeopardy childturningintoanimal childhood christmas christmasparty christmaspresents columbiatristar columbiatristarhomevideo comingofage competition confession constructionsite convertible conveyorbelt courage crackedwindshield crawler critter crocodile cultclassic cultfilm cuttingfacewhileshaving cuttingonesownhair danger dice disappearance discountstore drivingacarintoabuilding drivingwithoutalicense drumbeat dybbukbox earthquake elephant excavation explorer exterminator factory fainting familylegacy familyname fathersonrelationship feline fib fictionalboardgame fight firearm fireplace firstlove firstofseries firstpart fishoutofwater flood footwear forest fortuneteller franchise friendswholivetogether friendship game gamepiece giantinsect girl grounded gun gunstore hacksaw handcuffed handcuffs handgun heavyrain heldatgunpoint hidinginacloset hitbyacar homelessperson hostagesituation humanbecomingananimal humanhuntingahuman hunter illegalgunsale impersonatingapoliceofficer improvisedweapon insectattack investmentbanker jumanji jungle jungleadventure jungleman lace laundrydetergent lawenforcementofficer leaf library liftingsomeoneintotheair lion liveactionandanimation longhairedfemale longhairedgirl longhairedwoman lookingthroughakeyhole looting lossofparents lush magic malehunter malepoliceofficer maleprotagonist mansion missingchild monkey monsoon mosquito motherdaughterrelationship mothersonrelationship motorvehicle motorcycle motorcyclepoliceofficer moving multipleversionsofthesamecharacter mustachedman mutation namesake nemesis nervousbreakdown newhampshire newhome night nighttime noopeningcredits oldphotograph olderversionofcharacter onewordtitle orchestralmusicscore orphan overalls paintcan partcomputeranimation partner pelican perilousescape personthoughtdeadisalive pigtails plant plantattack playingaboardgame poison poisonivy police policecar policeofficer policevehicle predator predatorprey predatoryreptile pregnantwoman presumeddead prologue psychiatrist psychotronicfilm quadruped quicksand rain rainforest rampage realestateagent realtor recluse referencetoahoroscope referencetoazodiacsign referencetocluetheboardgame referencetolibratheconstellation referencetoringlingbrothers referencetotarzan referencetothetwilightzone referencetowiltchamberlain refrigerator reptile returntothepast revolver rhinoceros richfamily rifle river rollingdice santaclauscostume sayingthankyou screenplayadaptedbyauthor shareduniverse shoefactory shoes shotgun sidearm smalltown sneaker sniperrifle snob spider spiderattack sportinggoodsstore squatter stampede statue stealingabicycle subtitledscene suitcase supernaturalfantasy supernaturalpower surpriseending surrealism tail timelapsephotography timetravel timelinechange tire titledirectedbymale titledirectedbyman titlesameasbook titlespokenbycharacter titlewrittenbymale transportedbackintime trappedinagame trombone turningintoamonkey tweengirl underwaterscene vandalism vegetation vehicle viewthroughriflescope vine violence vortex weapon wisecrackhumor wonderbread wood woodenchest woodland zebra family kidflick robinwilliams timetravel adventure family horrifyingbutnothorrorgenre robinwilliams scary fantasy timetravel kirstendunst robinwilliams boardgame timetravel kidflick badcgi fantasy boardgame robinwilliams clv monkey animals badcgi horrifyingbutnothorrorgenre kirstendunst magicboardgame monkey notforkids animals fantasy jungle robinwilliams robinwilliams children fantasy robinwilliams adventure family fantasy kids magicboardgame robinwilliams fantasy robinwilliams scary timetravel basedonabook kirstendunst littlegirl children kidflick boardgame fantasy robinwilliams boardgame fantasy robinwilliams timetravel fantasy robinwilliams badcgi robinwilliams adventure animals badcgi boardgame comedy family fantasy fiction heartwarming horrifyingbutnothorrorgenre kidflick magicboardgame robinwilliams scary timetravel adventure badcgi boardgame kidflick robinwilliams scary timetravel adventure animals boardgame fantasy fiction magicboardgame robinwilliams timetravel robinwilliams robinwilliams fantasy fantasy robinwilliams fantasy robinwilliams adventure animals boardgame family fantasy fiction robinwilliams timetravel fantasy kidflick timetravel adventure comedy boardgame fantasy kidflick monkey robinwilliams itaege forchildren adaptedfrombook animals badcgi basedonabook boardgame childhoodrecaptured children chrisvanallsburg fantasy filmedinbc jungle kidflick kirstendunst monkey robinwilliams saturnawardbestspecialeffects saturnawardbestsupportingactress scary time timetravel 4k robinwilliams boardgame robinwilliams badcgi horrifyingbutnothorrorgenre notforkids robinwilliams scary'"
      ]
     },
     "execution_count": 80,
     "metadata": {},
     "output_type": "execute_result"
    }
   ],
   "source": [
    "merged_df['final_tags'][1]"
   ]
  },
  {
   "cell_type": "code",
   "execution_count": 81,
   "id": "080b9d17",
   "metadata": {},
   "outputs": [],
   "source": [
    "df_links = pd.read_csv(r\"E:\\data-science-journey\\movie-recommender-system\\data\\raw-data\\links.csv\")"
   ]
  },
  {
   "cell_type": "code",
   "execution_count": 82,
   "id": "1ec4b35d",
   "metadata": {},
   "outputs": [
    {
     "data": {
      "text/html": [
       "<div>\n",
       "<style scoped>\n",
       "    .dataframe tbody tr th:only-of-type {\n",
       "        vertical-align: middle;\n",
       "    }\n",
       "\n",
       "    .dataframe tbody tr th {\n",
       "        vertical-align: top;\n",
       "    }\n",
       "\n",
       "    .dataframe thead th {\n",
       "        text-align: right;\n",
       "    }\n",
       "</style>\n",
       "<table border=\"1\" class=\"dataframe\">\n",
       "  <thead>\n",
       "    <tr style=\"text-align: right;\">\n",
       "      <th></th>\n",
       "      <th>movieId</th>\n",
       "      <th>imdbId</th>\n",
       "      <th>tmdbId</th>\n",
       "    </tr>\n",
       "  </thead>\n",
       "  <tbody>\n",
       "    <tr>\n",
       "      <th>0</th>\n",
       "      <td>1</td>\n",
       "      <td>114709</td>\n",
       "      <td>862.0</td>\n",
       "    </tr>\n",
       "    <tr>\n",
       "      <th>1</th>\n",
       "      <td>2</td>\n",
       "      <td>113497</td>\n",
       "      <td>8844.0</td>\n",
       "    </tr>\n",
       "    <tr>\n",
       "      <th>2</th>\n",
       "      <td>3</td>\n",
       "      <td>113228</td>\n",
       "      <td>15602.0</td>\n",
       "    </tr>\n",
       "    <tr>\n",
       "      <th>3</th>\n",
       "      <td>4</td>\n",
       "      <td>114885</td>\n",
       "      <td>31357.0</td>\n",
       "    </tr>\n",
       "    <tr>\n",
       "      <th>4</th>\n",
       "      <td>5</td>\n",
       "      <td>113041</td>\n",
       "      <td>11862.0</td>\n",
       "    </tr>\n",
       "  </tbody>\n",
       "</table>\n",
       "</div>"
      ],
      "text/plain": [
       "   movieId  imdbId   tmdbId\n",
       "0        1  114709    862.0\n",
       "1        2  113497   8844.0\n",
       "2        3  113228  15602.0\n",
       "3        4  114885  31357.0\n",
       "4        5  113041  11862.0"
      ]
     },
     "execution_count": 82,
     "metadata": {},
     "output_type": "execute_result"
    }
   ],
   "source": [
    "df_links.head()"
   ]
  },
  {
   "cell_type": "code",
   "execution_count": 83,
   "id": "f963b5ea",
   "metadata": {},
   "outputs": [],
   "source": [
    "df = pd.merge(merged_df, df_links, on='movieId', how='inner')"
   ]
  },
  {
   "cell_type": "code",
   "execution_count": 84,
   "id": "a7296f71",
   "metadata": {},
   "outputs": [
    {
     "data": {
      "text/html": [
       "<div>\n",
       "<style scoped>\n",
       "    .dataframe tbody tr th:only-of-type {\n",
       "        vertical-align: middle;\n",
       "    }\n",
       "\n",
       "    .dataframe tbody tr th {\n",
       "        vertical-align: top;\n",
       "    }\n",
       "\n",
       "    .dataframe thead th {\n",
       "        text-align: right;\n",
       "    }\n",
       "</style>\n",
       "<table border=\"1\" class=\"dataframe\">\n",
       "  <thead>\n",
       "    <tr style=\"text-align: right;\">\n",
       "      <th></th>\n",
       "      <th>movieId</th>\n",
       "      <th>title</th>\n",
       "      <th>final_tags</th>\n",
       "      <th>imdbId</th>\n",
       "      <th>tmdbId</th>\n",
       "    </tr>\n",
       "  </thead>\n",
       "  <tbody>\n",
       "    <tr>\n",
       "      <th>0</th>\n",
       "      <td>1</td>\n",
       "      <td>Toy Story (1995)</td>\n",
       "      <td>adventure animation children comedy fantasy ch...</td>\n",
       "      <td>114709</td>\n",
       "      <td>862.0</td>\n",
       "    </tr>\n",
       "    <tr>\n",
       "      <th>1</th>\n",
       "      <td>2</td>\n",
       "      <td>Jumanji (1995)</td>\n",
       "      <td>adventure children fantasy robinwilliams fanta...</td>\n",
       "      <td>113497</td>\n",
       "      <td>8844.0</td>\n",
       "    </tr>\n",
       "    <tr>\n",
       "      <th>2</th>\n",
       "      <td>3</td>\n",
       "      <td>Grumpier Old Men (1995)</td>\n",
       "      <td>comedy romance comedinhadevelhinhosengraada co...</td>\n",
       "      <td>113228</td>\n",
       "      <td>15602.0</td>\n",
       "    </tr>\n",
       "    <tr>\n",
       "      <th>3</th>\n",
       "      <td>4</td>\n",
       "      <td>Waiting to Exhale (1995)</td>\n",
       "      <td>comedy drama romance characters slurs basedonn...</td>\n",
       "      <td>114885</td>\n",
       "      <td>31357.0</td>\n",
       "    </tr>\n",
       "    <tr>\n",
       "      <th>4</th>\n",
       "      <td>5</td>\n",
       "      <td>Father of the Bride Part II (1995)</td>\n",
       "      <td>comedy fantasy pregnancy remake family stevema...</td>\n",
       "      <td>113041</td>\n",
       "      <td>11862.0</td>\n",
       "    </tr>\n",
       "  </tbody>\n",
       "</table>\n",
       "</div>"
      ],
      "text/plain": [
       "   movieId                               title  \\\n",
       "0        1                    Toy Story (1995)   \n",
       "1        2                      Jumanji (1995)   \n",
       "2        3             Grumpier Old Men (1995)   \n",
       "3        4            Waiting to Exhale (1995)   \n",
       "4        5  Father of the Bride Part II (1995)   \n",
       "\n",
       "                                          final_tags  imdbId   tmdbId  \n",
       "0  adventure animation children comedy fantasy ch...  114709    862.0  \n",
       "1  adventure children fantasy robinwilliams fanta...  113497   8844.0  \n",
       "2  comedy romance comedinhadevelhinhosengraada co...  113228  15602.0  \n",
       "3  comedy drama romance characters slurs basedonn...  114885  31357.0  \n",
       "4  comedy fantasy pregnancy remake family stevema...  113041  11862.0  "
      ]
     },
     "execution_count": 84,
     "metadata": {},
     "output_type": "execute_result"
    }
   ],
   "source": [
    "df.head()"
   ]
  },
  {
   "cell_type": "code",
   "execution_count": 85,
   "id": "0db611e1",
   "metadata": {},
   "outputs": [
    {
     "name": "stdout",
     "output_type": "stream",
     "text": [
      "<class 'pandas.core.frame.DataFrame'>\n",
      "RangeIndex: 51323 entries, 0 to 51322\n",
      "Data columns (total 5 columns):\n",
      " #   Column      Non-Null Count  Dtype  \n",
      "---  ------      --------------  -----  \n",
      " 0   movieId     51323 non-null  int64  \n",
      " 1   title       51323 non-null  object \n",
      " 2   final_tags  51323 non-null  object \n",
      " 3   imdbId      51323 non-null  int64  \n",
      " 4   tmdbId      51274 non-null  float64\n",
      "dtypes: float64(1), int64(2), object(2)\n",
      "memory usage: 2.0+ MB\n"
     ]
    }
   ],
   "source": [
    "df.info()"
   ]
  },
  {
   "cell_type": "code",
   "execution_count": 86,
   "id": "d2432841",
   "metadata": {},
   "outputs": [],
   "source": [
    "df = df.rename(columns={'movieId': 'movie_id'})\n",
    "df = df.rename(columns={'final_tags': 'tags'})\n",
    "df = df.rename(columns={'imdbId': 'imdb_id'})\n",
    "df = df.rename(columns={'tmdbId': 'tmdb_id'})"
   ]
  },
  {
   "cell_type": "code",
   "execution_count": 87,
   "id": "1b39430a",
   "metadata": {},
   "outputs": [
    {
     "data": {
      "text/html": [
       "<div>\n",
       "<style scoped>\n",
       "    .dataframe tbody tr th:only-of-type {\n",
       "        vertical-align: middle;\n",
       "    }\n",
       "\n",
       "    .dataframe tbody tr th {\n",
       "        vertical-align: top;\n",
       "    }\n",
       "\n",
       "    .dataframe thead th {\n",
       "        text-align: right;\n",
       "    }\n",
       "</style>\n",
       "<table border=\"1\" class=\"dataframe\">\n",
       "  <thead>\n",
       "    <tr style=\"text-align: right;\">\n",
       "      <th></th>\n",
       "      <th>movie_id</th>\n",
       "      <th>title</th>\n",
       "      <th>tags</th>\n",
       "      <th>imdb_id</th>\n",
       "      <th>tmdb_id</th>\n",
       "    </tr>\n",
       "  </thead>\n",
       "  <tbody>\n",
       "    <tr>\n",
       "      <th>0</th>\n",
       "      <td>1</td>\n",
       "      <td>Toy Story (1995)</td>\n",
       "      <td>adventure animation children comedy fantasy ch...</td>\n",
       "      <td>114709</td>\n",
       "      <td>862.0</td>\n",
       "    </tr>\n",
       "    <tr>\n",
       "      <th>1</th>\n",
       "      <td>2</td>\n",
       "      <td>Jumanji (1995)</td>\n",
       "      <td>adventure children fantasy robinwilliams fanta...</td>\n",
       "      <td>113497</td>\n",
       "      <td>8844.0</td>\n",
       "    </tr>\n",
       "    <tr>\n",
       "      <th>2</th>\n",
       "      <td>3</td>\n",
       "      <td>Grumpier Old Men (1995)</td>\n",
       "      <td>comedy romance comedinhadevelhinhosengraada co...</td>\n",
       "      <td>113228</td>\n",
       "      <td>15602.0</td>\n",
       "    </tr>\n",
       "    <tr>\n",
       "      <th>3</th>\n",
       "      <td>4</td>\n",
       "      <td>Waiting to Exhale (1995)</td>\n",
       "      <td>comedy drama romance characters slurs basedonn...</td>\n",
       "      <td>114885</td>\n",
       "      <td>31357.0</td>\n",
       "    </tr>\n",
       "    <tr>\n",
       "      <th>4</th>\n",
       "      <td>5</td>\n",
       "      <td>Father of the Bride Part II (1995)</td>\n",
       "      <td>comedy fantasy pregnancy remake family stevema...</td>\n",
       "      <td>113041</td>\n",
       "      <td>11862.0</td>\n",
       "    </tr>\n",
       "  </tbody>\n",
       "</table>\n",
       "</div>"
      ],
      "text/plain": [
       "   movie_id                               title  \\\n",
       "0         1                    Toy Story (1995)   \n",
       "1         2                      Jumanji (1995)   \n",
       "2         3             Grumpier Old Men (1995)   \n",
       "3         4            Waiting to Exhale (1995)   \n",
       "4         5  Father of the Bride Part II (1995)   \n",
       "\n",
       "                                                tags  imdb_id  tmdb_id  \n",
       "0  adventure animation children comedy fantasy ch...   114709    862.0  \n",
       "1  adventure children fantasy robinwilliams fanta...   113497   8844.0  \n",
       "2  comedy romance comedinhadevelhinhosengraada co...   113228  15602.0  \n",
       "3  comedy drama romance characters slurs basedonn...   114885  31357.0  \n",
       "4  comedy fantasy pregnancy remake family stevema...   113041  11862.0  "
      ]
     },
     "execution_count": 87,
     "metadata": {},
     "output_type": "execute_result"
    }
   ],
   "source": [
    "df.head()"
   ]
  },
  {
   "cell_type": "code",
   "execution_count": 89,
   "id": "71baeb42",
   "metadata": {},
   "outputs": [],
   "source": [
    "df = df.dropna(subset=['tmdb_id'])\n",
    "df['tmdb_id'] = df['tmdb_id'].astype('int64')"
   ]
  },
  {
   "cell_type": "code",
   "execution_count": 90,
   "id": "56a7ac5c",
   "metadata": {},
   "outputs": [
    {
     "name": "stdout",
     "output_type": "stream",
     "text": [
      "<class 'pandas.core.frame.DataFrame'>\n",
      "Index: 51274 entries, 0 to 51322\n",
      "Data columns (total 5 columns):\n",
      " #   Column    Non-Null Count  Dtype \n",
      "---  ------    --------------  ----- \n",
      " 0   movie_id  51274 non-null  int64 \n",
      " 1   title     51274 non-null  object\n",
      " 2   tags      51274 non-null  object\n",
      " 3   imdb_id   51274 non-null  int64 \n",
      " 4   tmdb_id   51274 non-null  int64 \n",
      "dtypes: int64(3), object(2)\n",
      "memory usage: 2.3+ MB\n"
     ]
    }
   ],
   "source": [
    "df.info()"
   ]
  },
  {
   "cell_type": "code",
   "execution_count": 91,
   "id": "90e3a0fb",
   "metadata": {},
   "outputs": [
    {
     "data": {
      "text/html": [
       "<div>\n",
       "<style scoped>\n",
       "    .dataframe tbody tr th:only-of-type {\n",
       "        vertical-align: middle;\n",
       "    }\n",
       "\n",
       "    .dataframe tbody tr th {\n",
       "        vertical-align: top;\n",
       "    }\n",
       "\n",
       "    .dataframe thead th {\n",
       "        text-align: right;\n",
       "    }\n",
       "</style>\n",
       "<table border=\"1\" class=\"dataframe\">\n",
       "  <thead>\n",
       "    <tr style=\"text-align: right;\">\n",
       "      <th></th>\n",
       "      <th>movie_id</th>\n",
       "      <th>title</th>\n",
       "      <th>tags</th>\n",
       "      <th>imdb_id</th>\n",
       "      <th>tmdb_id</th>\n",
       "    </tr>\n",
       "  </thead>\n",
       "  <tbody>\n",
       "    <tr>\n",
       "      <th>21356</th>\n",
       "      <td>118191</td>\n",
       "      <td>Great Expectations (1934)</td>\n",
       "      <td>drama romance charlesdickens orphan</td>\n",
       "      <td>25202</td>\n",
       "      <td>170582</td>\n",
       "    </tr>\n",
       "    <tr>\n",
       "      <th>31484</th>\n",
       "      <td>152109</td>\n",
       "      <td>Carry On Up The Jungle (1970)</td>\n",
       "      <td>comedy africa jungle</td>\n",
       "      <td>65525</td>\n",
       "      <td>17276</td>\n",
       "    </tr>\n",
       "    <tr>\n",
       "      <th>24906</th>\n",
       "      <td>130600</td>\n",
       "      <td>Guess What We Learned in School Today? (1971)</td>\n",
       "      <td>comedy counterculture freelove sex</td>\n",
       "      <td>65802</td>\n",
       "      <td>276410</td>\n",
       "    </tr>\n",
       "    <tr>\n",
       "      <th>31850</th>\n",
       "      <td>153328</td>\n",
       "      <td>Smoke and Flesh (1968)</td>\n",
       "      <td>drama drugs marijuana orgy sex voyeurism</td>\n",
       "      <td>63616</td>\n",
       "      <td>89757</td>\n",
       "    </tr>\n",
       "    <tr>\n",
       "      <th>34</th>\n",
       "      <td>35</td>\n",
       "      <td>Carrington (1995)</td>\n",
       "      <td>drama romance polyamory entirelydialogue artis...</td>\n",
       "      <td>112637</td>\n",
       "      <td>47018</td>\n",
       "    </tr>\n",
       "    <tr>\n",
       "      <th>7218</th>\n",
       "      <td>8019</td>\n",
       "      <td>Dark Water (Honogurai mizu no soko kara) (2002)</td>\n",
       "      <td>drama horror mystery thriller remade atmospher...</td>\n",
       "      <td>308379</td>\n",
       "      <td>12205</td>\n",
       "    </tr>\n",
       "    <tr>\n",
       "      <th>43054</th>\n",
       "      <td>187953</td>\n",
       "      <td>Holy Ghost (2014)</td>\n",
       "      <td>documentary christanity god holyspirit superna...</td>\n",
       "      <td>3747978</td>\n",
       "      <td>285434</td>\n",
       "    </tr>\n",
       "    <tr>\n",
       "      <th>33576</th>\n",
       "      <td>159091</td>\n",
       "      <td>The Last Straight Man (2014)</td>\n",
       "      <td>comedy drama romance gay lgbt</td>\n",
       "      <td>2609778</td>\n",
       "      <td>319017</td>\n",
       "    </tr>\n",
       "    <tr>\n",
       "      <th>6172</th>\n",
       "      <td>6634</td>\n",
       "      <td>Rowing with the Wind (Remando al viento) (1988)</td>\n",
       "      <td>drama romance lordbyron periodpiece</td>\n",
       "      <td>93840</td>\n",
       "      <td>80047</td>\n",
       "    </tr>\n",
       "    <tr>\n",
       "      <th>8430</th>\n",
       "      <td>26495</td>\n",
       "      <td>Yellowbeard (1983)</td>\n",
       "      <td>action adventure comedy pirates petercook pris...</td>\n",
       "      <td>86618</td>\n",
       "      <td>11609</td>\n",
       "    </tr>\n",
       "    <tr>\n",
       "      <th>32197</th>\n",
       "      <td>154612</td>\n",
       "      <td>Crulic - The Path to Beyond (2011)</td>\n",
       "      <td>animation documentary biography prison womandi...</td>\n",
       "      <td>1996223</td>\n",
       "      <td>147698</td>\n",
       "    </tr>\n",
       "    <tr>\n",
       "      <th>30128</th>\n",
       "      <td>147356</td>\n",
       "      <td>Trophy Heads (2014)</td>\n",
       "      <td>comedy horror nuditytopless abduction acid arr...</td>\n",
       "      <td>3765892</td>\n",
       "      <td>296121</td>\n",
       "    </tr>\n",
       "    <tr>\n",
       "      <th>894</th>\n",
       "      <td>991</td>\n",
       "      <td>Michael Collins (1996)</td>\n",
       "      <td>drama ireland juliaroberts ireland ireland ire...</td>\n",
       "      <td>117039</td>\n",
       "      <td>1770</td>\n",
       "    </tr>\n",
       "    <tr>\n",
       "      <th>37499</th>\n",
       "      <td>170551</td>\n",
       "      <td>The Quiet Family (1998)</td>\n",
       "      <td>comedy comedy darkcomedy horrorcomedy guesthou...</td>\n",
       "      <td>188503</td>\n",
       "      <td>74336</td>\n",
       "    </tr>\n",
       "    <tr>\n",
       "      <th>19340</th>\n",
       "      <td>108968</td>\n",
       "      <td>Betrayed (True and the Brave, The) (1954)</td>\n",
       "      <td>drama romance thriller war nazispy worldwarii</td>\n",
       "      <td>46770</td>\n",
       "      <td>83665</td>\n",
       "    </tr>\n",
       "    <tr>\n",
       "      <th>26246</th>\n",
       "      <td>134495</td>\n",
       "      <td>Paolo Barca, maestro elementare, praticamente ...</td>\n",
       "      <td>nogenreslisted sexcomedy</td>\n",
       "      <td>192427</td>\n",
       "      <td>279568</td>\n",
       "    </tr>\n",
       "    <tr>\n",
       "      <th>42569</th>\n",
       "      <td>186455</td>\n",
       "      <td>The Colt (2005)</td>\n",
       "      <td>children drama war americancivilwar battle civ...</td>\n",
       "      <td>416654</td>\n",
       "      <td>14973</td>\n",
       "    </tr>\n",
       "    <tr>\n",
       "      <th>21789</th>\n",
       "      <td>120292</td>\n",
       "      <td>Bird People (2014)</td>\n",
       "      <td>drama fantasy romance womandirector</td>\n",
       "      <td>2368635</td>\n",
       "      <td>266040</td>\n",
       "    </tr>\n",
       "    <tr>\n",
       "      <th>20641</th>\n",
       "      <td>115692</td>\n",
       "      <td>Blindfold (1965)</td>\n",
       "      <td>comedy romance thriller coldwar kidnapping new...</td>\n",
       "      <td>58977</td>\n",
       "      <td>169066</td>\n",
       "    </tr>\n",
       "    <tr>\n",
       "      <th>3336</th>\n",
       "      <td>3642</td>\n",
       "      <td>In Old California (1942)</td>\n",
       "      <td>western goldrush pharmacist sacramento</td>\n",
       "      <td>34889</td>\n",
       "      <td>40685</td>\n",
       "    </tr>\n",
       "    <tr>\n",
       "      <th>35453</th>\n",
       "      <td>164633</td>\n",
       "      <td>Betty Boop's Penthouse (1933)</td>\n",
       "      <td>animation comedy precode</td>\n",
       "      <td>23803</td>\n",
       "      <td>161863</td>\n",
       "    </tr>\n",
       "    <tr>\n",
       "      <th>45126</th>\n",
       "      <td>200920</td>\n",
       "      <td>Les Charlots contre Dracula (1980)</td>\n",
       "      <td>comedy fantasy castle dracula kidnapping looka...</td>\n",
       "      <td>194748</td>\n",
       "      <td>78564</td>\n",
       "    </tr>\n",
       "    <tr>\n",
       "      <th>21593</th>\n",
       "      <td>119305</td>\n",
       "      <td>The Nutcracker Prince (1990)</td>\n",
       "      <td>adventure animation children fantasy 2danimati...</td>\n",
       "      <td>100281</td>\n",
       "      <td>13759</td>\n",
       "    </tr>\n",
       "    <tr>\n",
       "      <th>42819</th>\n",
       "      <td>187171</td>\n",
       "      <td>The Swindlers (2017)</td>\n",
       "      <td>crime drama crook</td>\n",
       "      <td>7243686</td>\n",
       "      <td>478187</td>\n",
       "    </tr>\n",
       "    <tr>\n",
       "      <th>12569</th>\n",
       "      <td>68028</td>\n",
       "      <td>What Doesn't Kill You (2008)</td>\n",
       "      <td>crime drama drugaddiction friends heist infide...</td>\n",
       "      <td>1133991</td>\n",
       "      <td>15801</td>\n",
       "    </tr>\n",
       "    <tr>\n",
       "      <th>9738</th>\n",
       "      <td>37477</td>\n",
       "      <td>Man, The (2005)</td>\n",
       "      <td>action comedy crime samuelljackson samuelljack...</td>\n",
       "      <td>399327</td>\n",
       "      <td>9074</td>\n",
       "    </tr>\n",
       "    <tr>\n",
       "      <th>19607</th>\n",
       "      <td>110259</td>\n",
       "      <td>Town Called Hell, A (1971)</td>\n",
       "      <td>action comedy drama western spaghettiwestern</td>\n",
       "      <td>67870</td>\n",
       "      <td>65674</td>\n",
       "    </tr>\n",
       "    <tr>\n",
       "      <th>34403</th>\n",
       "      <td>161624</td>\n",
       "      <td>Tricked (2012)</td>\n",
       "      <td>drama nuditytoplessnotable blackmail corporate...</td>\n",
       "      <td>2171875</td>\n",
       "      <td>140894</td>\n",
       "    </tr>\n",
       "    <tr>\n",
       "      <th>33232</th>\n",
       "      <td>158049</td>\n",
       "      <td>Rio 2096: A Story of Love and Fury (2013)</td>\n",
       "      <td>animation drama romance animation brazilian gr...</td>\n",
       "      <td>2231208</td>\n",
       "      <td>173443</td>\n",
       "    </tr>\n",
       "    <tr>\n",
       "      <th>7572</th>\n",
       "      <td>8676</td>\n",
       "      <td>Fist of the North Star (1995)</td>\n",
       "      <td>action thriller basedonananime lowbudget posta...</td>\n",
       "      <td>113074</td>\n",
       "      <td>26300</td>\n",
       "    </tr>\n",
       "  </tbody>\n",
       "</table>\n",
       "</div>"
      ],
      "text/plain": [
       "       movie_id                                              title  \\\n",
       "21356    118191                          Great Expectations (1934)   \n",
       "31484    152109                      Carry On Up The Jungle (1970)   \n",
       "24906    130600      Guess What We Learned in School Today? (1971)   \n",
       "31850    153328                             Smoke and Flesh (1968)   \n",
       "34           35                                  Carrington (1995)   \n",
       "7218       8019    Dark Water (Honogurai mizu no soko kara) (2002)   \n",
       "43054    187953                                  Holy Ghost (2014)   \n",
       "33576    159091                       The Last Straight Man (2014)   \n",
       "6172       6634    Rowing with the Wind (Remando al viento) (1988)   \n",
       "8430      26495                                 Yellowbeard (1983)   \n",
       "32197    154612                 Crulic - The Path to Beyond (2011)   \n",
       "30128    147356                                Trophy Heads (2014)   \n",
       "894         991                             Michael Collins (1996)   \n",
       "37499    170551                            The Quiet Family (1998)   \n",
       "19340    108968          Betrayed (True and the Brave, The) (1954)   \n",
       "26246    134495  Paolo Barca, maestro elementare, praticamente ...   \n",
       "42569    186455                                    The Colt (2005)   \n",
       "21789    120292                                 Bird People (2014)   \n",
       "20641    115692                                   Blindfold (1965)   \n",
       "3336       3642                           In Old California (1942)   \n",
       "35453    164633                      Betty Boop's Penthouse (1933)   \n",
       "45126    200920                 Les Charlots contre Dracula (1980)   \n",
       "21593    119305                       The Nutcracker Prince (1990)   \n",
       "42819    187171                               The Swindlers (2017)   \n",
       "12569     68028                       What Doesn't Kill You (2008)   \n",
       "9738      37477                                    Man, The (2005)   \n",
       "19607    110259                         Town Called Hell, A (1971)   \n",
       "34403    161624                                     Tricked (2012)   \n",
       "33232    158049          Rio 2096: A Story of Love and Fury (2013)   \n",
       "7572       8676                      Fist of the North Star (1995)   \n",
       "\n",
       "                                                    tags  imdb_id  tmdb_id  \n",
       "21356                drama romance charlesdickens orphan    25202   170582  \n",
       "31484                               comedy africa jungle    65525    17276  \n",
       "24906                 comedy counterculture freelove sex    65802   276410  \n",
       "31850           drama drugs marijuana orgy sex voyeurism    63616    89757  \n",
       "34     drama romance polyamory entirelydialogue artis...   112637    47018  \n",
       "7218   drama horror mystery thriller remade atmospher...   308379    12205  \n",
       "43054  documentary christanity god holyspirit superna...  3747978   285434  \n",
       "33576                      comedy drama romance gay lgbt  2609778   319017  \n",
       "6172                 drama romance lordbyron periodpiece    93840    80047  \n",
       "8430   action adventure comedy pirates petercook pris...    86618    11609  \n",
       "32197  animation documentary biography prison womandi...  1996223   147698  \n",
       "30128  comedy horror nuditytopless abduction acid arr...  3765892   296121  \n",
       "894    drama ireland juliaroberts ireland ireland ire...   117039     1770  \n",
       "37499  comedy comedy darkcomedy horrorcomedy guesthou...   188503    74336  \n",
       "19340      drama romance thriller war nazispy worldwarii    46770    83665  \n",
       "26246                           nogenreslisted sexcomedy   192427   279568  \n",
       "42569  children drama war americancivilwar battle civ...   416654    14973  \n",
       "21789                drama fantasy romance womandirector  2368635   266040  \n",
       "20641  comedy romance thriller coldwar kidnapping new...    58977   169066  \n",
       "3336              western goldrush pharmacist sacramento    34889    40685  \n",
       "35453                           animation comedy precode    23803   161863  \n",
       "45126  comedy fantasy castle dracula kidnapping looka...   194748    78564  \n",
       "21593  adventure animation children fantasy 2danimati...   100281    13759  \n",
       "42819                                  crime drama crook  7243686   478187  \n",
       "12569  crime drama drugaddiction friends heist infide...  1133991    15801  \n",
       "9738   action comedy crime samuelljackson samuelljack...   399327     9074  \n",
       "19607       action comedy drama western spaghettiwestern    67870    65674  \n",
       "34403  drama nuditytoplessnotable blackmail corporate...  2171875   140894  \n",
       "33232  animation drama romance animation brazilian gr...  2231208   173443  \n",
       "7572   action thriller basedonananime lowbudget posta...   113074    26300  "
      ]
     },
     "execution_count": 91,
     "metadata": {},
     "output_type": "execute_result"
    }
   ],
   "source": [
    "df.sample(30)"
   ]
  },
  {
   "cell_type": "code",
   "execution_count": 92,
   "id": "ccff262d",
   "metadata": {},
   "outputs": [
    {
     "name": "stdout",
     "output_type": "stream",
     "text": [
      "<class 'pandas.core.frame.DataFrame'>\n",
      "Index: 51274 entries, 0 to 51322\n",
      "Data columns (total 5 columns):\n",
      " #   Column    Non-Null Count  Dtype \n",
      "---  ------    --------------  ----- \n",
      " 0   movie_id  51274 non-null  int64 \n",
      " 1   title     51274 non-null  object\n",
      " 2   tags      51274 non-null  object\n",
      " 3   imdb_id   51274 non-null  int64 \n",
      " 4   tmdb_id   51274 non-null  int64 \n",
      "dtypes: int64(3), object(2)\n",
      "memory usage: 2.3+ MB\n"
     ]
    }
   ],
   "source": [
    "df.info()"
   ]
  },
  {
   "cell_type": "code",
   "execution_count": 93,
   "id": "ec5fb26d",
   "metadata": {},
   "outputs": [
    {
     "data": {
      "text/plain": [
       "(51274, 5)"
      ]
     },
     "execution_count": 93,
     "metadata": {},
     "output_type": "execute_result"
    }
   ],
   "source": [
    "df.shape"
   ]
  },
  {
   "cell_type": "code",
   "execution_count": null,
   "id": "57bdf2e4",
   "metadata": {},
   "outputs": [],
   "source": [
    "# df.to_csv('processed_dataset.csv', index=False)"
   ]
  },
  {
   "cell_type": "code",
   "execution_count": 5,
   "id": "9ac9e664",
   "metadata": {},
   "outputs": [],
   "source": [
    "df = pd.read_csv(r\"E:\\data-science-journey\\smart-movie-recommender-system\\data\\processed-data\\processed_dataset.csv\")"
   ]
  },
  {
   "cell_type": "markdown",
   "id": "e1679495",
   "metadata": {},
   "source": [
    "# Model Building & Vectorization"
   ]
  },
  {
   "cell_type": "code",
   "execution_count": 6,
   "id": "b686d398",
   "metadata": {},
   "outputs": [],
   "source": [
    "import nltk"
   ]
  },
  {
   "cell_type": "code",
   "execution_count": 7,
   "id": "fc1f0b05",
   "metadata": {},
   "outputs": [],
   "source": [
    "from nltk.stem.porter import PorterStemmer\n",
    "ps = PorterStemmer()"
   ]
  },
  {
   "cell_type": "code",
   "execution_count": 8,
   "id": "66f395d5",
   "metadata": {},
   "outputs": [],
   "source": [
    "def stem(text):\n",
    "    y = []\n",
    "\n",
    "    for i in text.split():\n",
    "        y.append(ps.stem(i))\n",
    "        \n",
    "    return \" \".join(y)"
   ]
  },
  {
   "cell_type": "code",
   "execution_count": 6,
   "id": "8b7cfdfb",
   "metadata": {},
   "outputs": [
    {
     "data": {
      "text/plain": [
       "0        adventur anim children comedi fantasi children...\n",
       "1        adventur children fantasi robinwilliam fantasi...\n",
       "2        comedi romanc comedinhadevelhinhosengraada com...\n",
       "3        comedi drama romanc charact slur basedonnovelo...\n",
       "4        comedi fantasi pregnanc remak famili stevemart...\n",
       "                               ...                        \n",
       "51269    nogenreslist cadaqu catalonia china housingest...\n",
       "51270                   comedi horror politicallyincorrect\n",
       "51271                              fantasi horror stephenk\n",
       "51272                      horror scifi artificialintellig\n",
       "51273    documentari documentaryfilmmak familyrelationship\n",
       "Name: tags, Length: 51274, dtype: object"
      ]
     },
     "execution_count": 6,
     "metadata": {},
     "output_type": "execute_result"
    }
   ],
   "source": [
    "df['tags'].apply(stem)"
   ]
  },
  {
   "cell_type": "code",
   "execution_count": 9,
   "id": "1adacf95",
   "metadata": {},
   "outputs": [],
   "source": [
    "df['tags'] = df['tags'].apply(stem)"
   ]
  },
  {
   "cell_type": "code",
   "execution_count": 10,
   "id": "97265551",
   "metadata": {},
   "outputs": [],
   "source": [
    "from sklearn.feature_extraction.text import CountVectorizer\n",
    "cv = CountVectorizer(max_features=1250,stop_words='english')"
   ]
  },
  {
   "cell_type": "code",
   "execution_count": 11,
   "id": "ea392979",
   "metadata": {},
   "outputs": [],
   "source": [
    "vectors = cv.fit_transform(df['tags']).toarray()"
   ]
  },
  {
   "cell_type": "code",
   "execution_count": 13,
   "id": "5efe7df6",
   "metadata": {},
   "outputs": [
    {
     "name": "stdout",
     "output_type": "stream",
     "text": [
      "int64\n"
     ]
    }
   ],
   "source": [
    "print(vectors.dtype)"
   ]
  },
  {
   "cell_type": "code",
   "execution_count": 21,
   "id": "a916f654",
   "metadata": {},
   "outputs": [],
   "source": [
    "vectors = vectors.astype(\"float32\")"
   ]
  },
  {
   "cell_type": "code",
   "execution_count": 22,
   "id": "77e79727",
   "metadata": {},
   "outputs": [
    {
     "data": {
      "text/plain": [
       "(51274, 1250)"
      ]
     },
     "execution_count": 22,
     "metadata": {},
     "output_type": "execute_result"
    }
   ],
   "source": [
    "vectors.shape"
   ]
  },
  {
   "cell_type": "code",
   "execution_count": 23,
   "id": "fd74511e",
   "metadata": {},
   "outputs": [
    {
     "data": {
      "text/plain": [
       "array([0., 0., 0., ..., 0., 0., 0.], shape=(1250,), dtype=float32)"
      ]
     },
     "execution_count": 23,
     "metadata": {},
     "output_type": "execute_result"
    }
   ],
   "source": [
    "vectors[0]"
   ]
  },
  {
   "cell_type": "code",
   "execution_count": 24,
   "id": "033ff632",
   "metadata": {},
   "outputs": [
    {
     "data": {
      "text/plain": [
       "array(['007', '18thcenturi', '1920', ..., 'wwii', 'zombi',\n",
       "       'zooeydeschanel'], shape=(1250,), dtype=object)"
      ]
     },
     "execution_count": 24,
     "metadata": {},
     "output_type": "execute_result"
    }
   ],
   "source": [
    "cv.get_feature_names_out()"
   ]
  },
  {
   "cell_type": "code",
   "execution_count": 25,
   "id": "32275a91",
   "metadata": {},
   "outputs": [],
   "source": [
    "from sklearn.neighbors import NearestNeighbors\n",
    "\n",
    "# Step 1: Fit the NearestNeighbors model (once only)\n",
    "nn_model = NearestNeighbors(metric='cosine', algorithm='brute')  \n",
    "nn_model.fit(vectors)\n",
    "\n",
    "# Step 2: Define the recommend function\n",
    "def recommend(movie):\n",
    "    # Get index of the movie\n",
    "    index = df[df['title'] == movie].index[0]\n",
    "    \n",
    "    # Reshape the vector to match input shape (1, -1)\n",
    "    movie_vector = vectors[index].reshape(1, -1)\n",
    "    \n",
    "    # Step 3: Query the model for nearest neighbors (excluding the movie itself)\n",
    "    distances, indices = nn_model.kneighbors(movie_vector, n_neighbors=6)  # 1 input + 5 recommendations\n",
    "    \n",
    "    print(f\"Top 5 recommendations for '{movie}':\")\n",
    "    for i in indices[0][1:]:  # skip the first one (it's the movie itself)\n",
    "        print(df.iloc[i].title)\n"
   ]
  },
  {
   "cell_type": "code",
   "execution_count": 26,
   "id": "f3012570",
   "metadata": {},
   "outputs": [
    {
     "name": "stdout",
     "output_type": "stream",
     "text": [
      "Top 5 recommendations for 'Sex and the City (2008)':\n",
      "Bed of Roses (1996)\n",
      "Touched With Fire (2015)\n",
      "Devil Wears Prada, The (2006)\n",
      "Путь к себе (2010)\n",
      "Raising Helen (2004)\n"
     ]
    }
   ],
   "source": [
    "recommend('Sex and the City (2008)')"
   ]
  },
  {
   "cell_type": "markdown",
   "id": "bf901b12",
   "metadata": {},
   "source": [
    "# Exporting the Model\n",
    "Here we choosen Nearest Neighbors"
   ]
  },
  {
   "cell_type": "code",
   "execution_count": 15,
   "id": "2939e560",
   "metadata": {},
   "outputs": [],
   "source": [
    "import pickle"
   ]
  },
  {
   "cell_type": "code",
   "execution_count": null,
   "id": "21fc15d8",
   "metadata": {},
   "outputs": [],
   "source": [
    "pickle.dump(df, open('df.pkl', 'wb'))\n",
    "pickle.dump(nn_model, open('nn_model.pkl', 'wb')) "
   ]
  },
  {
   "cell_type": "code",
   "execution_count": 16,
   "id": "4a436a28",
   "metadata": {},
   "outputs": [],
   "source": [
    "pickle.dump(cv, open('cv.pkl', 'wb'))"
   ]
  },
  {
   "cell_type": "code",
   "execution_count": 27,
   "id": "aba8ee55",
   "metadata": {},
   "outputs": [
    {
     "data": {
      "text/plain": [
       "['nn_model_compressed.pkl']"
      ]
     },
     "execution_count": 27,
     "metadata": {},
     "output_type": "execute_result"
    }
   ],
   "source": [
    "import joblib\n",
    "joblib.dump(nn_model, \"nn_model_compressed.pkl\", compress=3)"
   ]
  },
  {
   "cell_type": "code",
   "execution_count": null,
   "id": "6f42c4d7",
   "metadata": {},
   "outputs": [],
   "source": []
  }
 ],
 "metadata": {
  "kernelspec": {
   "display_name": "Python 3",
   "language": "python",
   "name": "python3"
  },
  "language_info": {
   "codemirror_mode": {
    "name": "ipython",
    "version": 3
   },
   "file_extension": ".py",
   "mimetype": "text/x-python",
   "name": "python",
   "nbconvert_exporter": "python",
   "pygments_lexer": "ipython3",
   "version": "3.13.1"
  }
 },
 "nbformat": 4,
 "nbformat_minor": 5
}
